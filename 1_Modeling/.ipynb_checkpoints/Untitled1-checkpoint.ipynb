{
 "cells": [
  {
   "cell_type": "markdown",
   "metadata": {},
   "source": [
    "#### Write a function which returns the biggest number in a list:"
   ]
  },
  {
   "cell_type": "code",
   "execution_count": 15,
   "metadata": {},
   "outputs": [],
   "source": [
    "def return_highest(list):\n",
    "    max = list[0]\n",
    "    for i in list:\n",
    "        if i > max:\n",
    "            max = i\n",
    "    return max"
   ]
  },
  {
   "cell_type": "code",
   "execution_count": 17,
   "metadata": {},
   "outputs": [],
   "source": [
    "list = [1,2,5,3,4,6]"
   ]
  },
  {
   "cell_type": "code",
   "execution_count": 18,
   "metadata": {},
   "outputs": [
    {
     "data": {
      "text/plain": [
       "6"
      ]
     },
     "execution_count": 18,
     "metadata": {},
     "output_type": "execute_result"
    }
   ],
   "source": [
    "return_highest(list)"
   ]
  },
  {
   "cell_type": "markdown",
   "metadata": {},
   "source": [
    "#### Write a function to check whether a word is a palindrome"
   ]
  },
  {
   "cell_type": "code",
   "execution_count": 52,
   "metadata": {},
   "outputs": [],
   "source": [
    "word = \"Anna\"\n",
    "def checkWord(word):\n",
    "    word1 = []\n",
    "    word2 = []\n",
    "    for i in word:\n",
    "        word1.append(str.lower(i))\n",
    "    for i in word[::-1]:\n",
    "        word2.append(str.lower(i))\n",
    "    if word1 == word2:\n",
    "        out = word + \" is a palindrome\"\n",
    "    else:\n",
    "        out = word + \" isn't a palindrome\"\n",
    "    return out"
   ]
  },
  {
   "cell_type": "code",
   "execution_count": 53,
   "metadata": {},
   "outputs": [
    {
     "data": {
      "text/plain": [
       "'Anna is a palindrome'"
      ]
     },
     "execution_count": 53,
     "metadata": {},
     "output_type": "execute_result"
    }
   ],
   "source": [
    "checkWord(word)"
   ]
  },
  {
   "cell_type": "code",
   "execution_count": 54,
   "metadata": {},
   "outputs": [],
   "source": [
    "def palindrome(name):\n",
    "    nameList = []\n",
    "    emanList = []\n",
    "    for i in name:\n",
    "        nameList.append(str.lower(i))\n",
    "    for i in name [::-1]:\n",
    "        emanList.append(str.lower(i))\n",
    "    if (nameList == emanList):\n",
    "        out = name + \" is a palindrome\"\n",
    "    else:\n",
    "        out = name + \" is not a palindrome\"\n",
    "    return out"
   ]
  },
  {
   "cell_type": "code",
   "execution_count": 55,
   "metadata": {},
   "outputs": [
    {
     "data": {
      "text/plain": [
       "'Anna is a palindrome'"
      ]
     },
     "execution_count": 55,
     "metadata": {},
     "output_type": "execute_result"
    }
   ],
   "source": [
    "name = \"Anna\"\n",
    "palindrome(name)"
   ]
  },
  {
   "cell_type": "markdown",
   "metadata": {},
   "source": [
    "#### Enumerate through a list"
   ]
  },
  {
   "cell_type": "code",
   "execution_count": 65,
   "metadata": {},
   "outputs": [
    {
     "name": "stdout",
     "output_type": "stream",
     "text": [
      "(0, 'bread')\n",
      "(1, 'milk')\n",
      "(2, 'butter')\n",
      "\n",
      "\n",
      "0 bread\n",
      "1 milk\n",
      "2 butter\n",
      "\n",
      "\n",
      "1 bread\n",
      "2 milk\n",
      "3 butter\n"
     ]
    }
   ],
   "source": [
    "grocery = ['bread', 'milk', 'butter']\n",
    "for item in enumerate(grocery):\n",
    "  print(item)\n",
    "print('\\n')\n",
    "for count, item in enumerate(grocery):\n",
    "  print(count, item)\n",
    "print('\\n')\n",
    "# changing default start value\n",
    "for count, item in enumerate(grocery, 1):\n",
    "  print(count, item)"
   ]
  },
  {
   "cell_type": "markdown",
   "metadata": {},
   "source": [
    "#### Playing with .pop method"
   ]
  },
  {
   "cell_type": "code",
   "execution_count": 77,
   "metadata": {},
   "outputs": [
    {
     "data": {
      "text/plain": [
       "'goodbye'"
      ]
     },
     "execution_count": 77,
     "metadata": {},
     "output_type": "execute_result"
    }
   ],
   "source": [
    "list1 = [\"hello\", \"goodbye\"]\n",
    "list2 = list1.pop()\n",
    "list2"
   ]
  },
  {
   "cell_type": "markdown",
   "metadata": {},
   "source": [
    "#### Statistics Question - Std Dev"
   ]
  },
  {
   "cell_type": "markdown",
   "metadata": {},
   "source": [
    "random bag of m&ms\n",
    "15 m&ms of one color\n",
    "20 x 5 colors (100 m&ms per bag)"
   ]
  },
  {
   "cell_type": "markdown",
   "metadata": {},
   "source": [
    "1 sigma = 68%\n",
    "2 sigma = 95%\n",
    "3 sigma = 99%"
   ]
  },
  {
   "cell_type": "markdown",
   "metadata": {},
   "source": [
    "sigma = root of (5-20)^5"
   ]
  },
  {
   "cell_type": "markdown",
   "metadata": {},
   "source": [
    "You're an Analyst at Google and you have cool"
   ]
  }
 ],
 "metadata": {
  "kernelspec": {
   "display_name": "propulsionr",
   "language": "python",
   "name": "propulsionr"
  },
  "language_info": {
   "codemirror_mode": {
    "name": "ipython",
    "version": 3
   },
   "file_extension": ".py",
   "mimetype": "text/x-python",
   "name": "python",
   "nbconvert_exporter": "python",
   "pygments_lexer": "ipython3",
   "version": "3.8.3"
  }
 },
 "nbformat": 4,
 "nbformat_minor": 4
}
