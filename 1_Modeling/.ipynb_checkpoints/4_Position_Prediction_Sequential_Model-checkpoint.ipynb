{
 "cells": [
  {
   "cell_type": "code",
   "execution_count": 1,
   "metadata": {},
   "outputs": [],
   "source": [
    "# Goal 2 - Predicting Attention (Deep Learning)"
   ]
  },
  {
   "cell_type": "code",
   "execution_count": 1,
   "metadata": {
    "colab": {
     "base_uri": "https://localhost:8080/",
     "height": 71
    },
    "colab_type": "code",
    "executionInfo": {
     "elapsed": 760,
     "status": "ok",
     "timestamp": 1595938260423,
     "user": {
      "displayName": "Matthieu Bornet",
      "photoUrl": "https://lh3.googleusercontent.com/a-/AOh14Ggh7IAyuSpnvsDQwEYSDrFovYknZbS8ntOSRhFPvg=s64",
      "userId": "01878102350121562100"
     },
     "user_tz": -120
    },
    "id": "9rJzZ1XidFFb",
    "outputId": "64eac54e-8102-4e3c-86a2-4f83c933d3f3"
   },
   "outputs": [
    {
     "name": "stderr",
     "output_type": "stream",
     "text": [
      "/usr/local/lib/python3.6/dist-packages/statsmodels/tools/_testing.py:19: FutureWarning: pandas.util.testing is deprecated. Use the functions in the public API at pandas.testing instead.\n",
      "  import pandas.util.testing as tm\n"
     ]
    }
   ],
   "source": [
    "import pathlib\n",
    "import matplotlib.pyplot as plt\n",
    "import numpy as np\n",
    "import pandas as pd\n",
    "import seaborn as sns"
   ]
  },
  {
   "cell_type": "code",
   "execution_count": 2,
   "metadata": {
    "colab": {
     "base_uri": "https://localhost:8080/",
     "height": 34
    },
    "colab_type": "code",
    "executionInfo": {
     "elapsed": 2349,
     "status": "ok",
     "timestamp": 1595938262019,
     "user": {
      "displayName": "Matthieu Bornet",
      "photoUrl": "https://lh3.googleusercontent.com/a-/AOh14Ggh7IAyuSpnvsDQwEYSDrFovYknZbS8ntOSRhFPvg=s64",
      "userId": "01878102350121562100"
     },
     "user_tz": -120
    },
    "id": "2Mydsa4ddK5v",
    "outputId": "238277dc-3832-4f67-c631-40b1b3a168c7"
   },
   "outputs": [
    {
     "name": "stdout",
     "output_type": "stream",
     "text": [
      "2.2.0\n"
     ]
    }
   ],
   "source": [
    "import tensorflow as tf\n",
    "\n",
    "from tensorflow import keras\n",
    "from tensorflow.keras import layers\n",
    "\n",
    "print(tf.__version__)"
   ]
  },
  {
   "cell_type": "code",
   "execution_count": 3,
   "metadata": {
    "colab": {},
    "colab_type": "code",
    "executionInfo": {
     "elapsed": 2344,
     "status": "ok",
     "timestamp": 1595938262020,
     "user": {
      "displayName": "Matthieu Bornet",
      "photoUrl": "https://lh3.googleusercontent.com/a-/AOh14Ggh7IAyuSpnvsDQwEYSDrFovYknZbS8ntOSRhFPvg=s64",
      "userId": "01878102350121562100"
     },
     "user_tz": -120
    },
    "id": "jPPMJHjdk1ur"
   },
   "outputs": [],
   "source": [
    "from sklearn.pipeline import Pipeline\n",
    "from sklearn import linear_model, datasets\n",
    "from sklearn.preprocessing import (\n",
    "    StandardScaler,\n",
    "    MinMaxScaler,\n",
    "    RobustScaler,\n",
    "    OneHotEncoder,\n",
    "    LabelEncoder,\n",
    ")\n",
    "from sklearn.compose import ColumnTransformer\n",
    "from sklearn.impute import SimpleImputer\n",
    "\n",
    "from sklearn.metrics import accuracy_score\n",
    "\n",
    "\n",
    "from sklearn.model_selection import RandomizedSearchCV, GridSearchCV, GroupShuffleSplit\n",
    "from sklearn.metrics import (\n",
    "    f1_score,\n",
    "    mean_squared_error,\n",
    "    r2_score,\n",
    "    classification_report,\n",
    "    confusion_matrix,\n",
    ")\n",
    "\n",
    "from sklearn import metrics\n",
    "from numpy import linalg as LA"
   ]
  },
  {
   "cell_type": "code",
   "execution_count": 4,
   "metadata": {
    "colab": {
     "base_uri": "https://localhost:8080/",
     "height": 34
    },
    "colab_type": "code",
    "executionInfo": {
     "elapsed": 2341,
     "status": "ok",
     "timestamp": 1595938262021,
     "user": {
      "displayName": "Matthieu Bornet",
      "photoUrl": "https://lh3.googleusercontent.com/a-/AOh14Ggh7IAyuSpnvsDQwEYSDrFovYknZbS8ntOSRhFPvg=s64",
      "userId": "01878102350121562100"
     },
     "user_tz": -120
    },
    "id": "VBBlazdNdQGX",
    "outputId": "1b90439d-b63c-4b85-fed1-36822f6cc116"
   },
   "outputs": [
    {
     "name": "stdout",
     "output_type": "stream",
     "text": [
      "Drive already mounted at /gdrive; to attempt to forcibly remount, call drive.mount(\"/gdrive\", force_remount=True).\n"
     ]
    }
   ],
   "source": [
    "from google.colab import drive\n",
    "drive.mount('/gdrive')"
   ]
  },
  {
   "cell_type": "code",
   "execution_count": 5,
   "metadata": {
    "colab": {
     "base_uri": "https://localhost:8080/",
     "height": 34
    },
    "colab_type": "code",
    "executionInfo": {
     "elapsed": 2335,
     "status": "ok",
     "timestamp": 1595938262021,
     "user": {
      "displayName": "Matthieu Bornet",
      "photoUrl": "https://lh3.googleusercontent.com/a-/AOh14Ggh7IAyuSpnvsDQwEYSDrFovYknZbS8ntOSRhFPvg=s64",
      "userId": "01878102350121562100"
     },
     "user_tz": -120
    },
    "id": "dg3TgMUfeRsv",
    "outputId": "4e53c932-7794-489d-fe75-d806a694e317"
   },
   "outputs": [
    {
     "name": "stdout",
     "output_type": "stream",
     "text": [
      "/gdrive/My Drive/Propulsion/Capstone Project/Group Folder\n"
     ]
    }
   ],
   "source": [
    "project_dir = \"/gdrive/My Drive/Industry Project\"\n",
    "%cd {project_dir}"
   ]
  },
  {
   "cell_type": "code",
   "execution_count": 6,
   "metadata": {
    "colab": {
     "base_uri": "https://localhost:8080/",
     "height": 479
    },
    "colab_type": "code",
    "executionInfo": {
     "elapsed": 11377,
     "status": "ok",
     "timestamp": 1595938271070,
     "user": {
      "displayName": "Matthieu Bornet",
      "photoUrl": "https://lh3.googleusercontent.com/a-/AOh14Ggh7IAyuSpnvsDQwEYSDrFovYknZbS8ntOSRhFPvg=s64",
      "userId": "01878102350121562100"
     },
     "user_tz": -120
    },
    "id": "fUp9CAePe67u",
    "outputId": "b8bafcf3-fc1a-4b79-e6e7-a817dd3cf61b"
   },
   "outputs": [
    {
     "data": {
      "text/html": [
       "<div>\n",
       "<style scoped>\n",
       "    .dataframe tbody tr th:only-of-type {\n",
       "        vertical-align: middle;\n",
       "    }\n",
       "\n",
       "    .dataframe tbody tr th {\n",
       "        vertical-align: top;\n",
       "    }\n",
       "\n",
       "    .dataframe thead th {\n",
       "        text-align: right;\n",
       "    }\n",
       "</style>\n",
       "<table border=\"1\" class=\"dataframe\">\n",
       "  <thead>\n",
       "    <tr style=\"text-align: right;\">\n",
       "      <th></th>\n",
       "      <th>local_timestamp</th>\n",
       "      <th>headpose_pitch</th>\n",
       "      <th>headpose_roll</th>\n",
       "      <th>headpose_yaw</th>\n",
       "      <th>looking_at_screen</th>\n",
       "      <th>person_id</th>\n",
       "      <th>poi_id</th>\n",
       "      <th>x_world</th>\n",
       "      <th>y_world</th>\n",
       "      <th>z_world</th>\n",
       "      <th>present_in_1</th>\n",
       "      <th>present_in_2</th>\n",
       "      <th>present_in_5</th>\n",
       "      <th>gender</th>\n",
       "      <th>age</th>\n",
       "      <th>total_time_spent_seconds</th>\n",
       "      <th>cumulative_time</th>\n",
       "      <th>dx_world</th>\n",
       "      <th>dy_world</th>\n",
       "      <th>d_time</th>\n",
       "      <th>x_velocity</th>\n",
       "      <th>y_velocity</th>\n",
       "      <th>velocity</th>\n",
       "      <th>distance_to_camera</th>\n",
       "      <th>ema_5_x</th>\n",
       "      <th>ema_5_y</th>\n",
       "      <th>ema_5_velocity</th>\n",
       "      <th>ema_10_x</th>\n",
       "      <th>ema_10_y</th>\n",
       "      <th>ema_10_velocity</th>\n",
       "    </tr>\n",
       "  </thead>\n",
       "  <tbody>\n",
       "    <tr>\n",
       "      <th>0</th>\n",
       "      <td>2020-07-13 09:32:45</td>\n",
       "      <td>344.0</td>\n",
       "      <td>356.0</td>\n",
       "      <td>54.0</td>\n",
       "      <td>1</td>\n",
       "      <td>000adf04-7a12-4af4-9c4d-7117495e9000</td>\n",
       "      <td>444</td>\n",
       "      <td>0.227504</td>\n",
       "      <td>1.251269</td>\n",
       "      <td>0.940917</td>\n",
       "      <td>1</td>\n",
       "      <td>1</td>\n",
       "      <td>1</td>\n",
       "      <td>male</td>\n",
       "      <td>32.0</td>\n",
       "      <td>20</td>\n",
       "      <td>0</td>\n",
       "      <td>0.677319</td>\n",
       "      <td>-0.134942</td>\n",
       "      <td>1.0</td>\n",
       "      <td>0.677319</td>\n",
       "      <td>-0.134942</td>\n",
       "      <td>0.690630</td>\n",
       "      <td>1.271783</td>\n",
       "      <td>0.677319</td>\n",
       "      <td>-0.134942</td>\n",
       "      <td>0.690630</td>\n",
       "      <td>0.677319</td>\n",
       "      <td>-0.134942</td>\n",
       "      <td>0.690630</td>\n",
       "    </tr>\n",
       "    <tr>\n",
       "      <th>1</th>\n",
       "      <td>2020-07-13 09:32:46</td>\n",
       "      <td>344.0</td>\n",
       "      <td>356.0</td>\n",
       "      <td>54.0</td>\n",
       "      <td>1</td>\n",
       "      <td>000adf04-7a12-4af4-9c4d-7117495e9000</td>\n",
       "      <td>444</td>\n",
       "      <td>-0.449814</td>\n",
       "      <td>1.386211</td>\n",
       "      <td>0.979368</td>\n",
       "      <td>1</td>\n",
       "      <td>1</td>\n",
       "      <td>1</td>\n",
       "      <td>male</td>\n",
       "      <td>32.0</td>\n",
       "      <td>20</td>\n",
       "      <td>1</td>\n",
       "      <td>0.306883</td>\n",
       "      <td>-0.057870</td>\n",
       "      <td>1.0</td>\n",
       "      <td>0.306883</td>\n",
       "      <td>-0.057870</td>\n",
       "      <td>0.312292</td>\n",
       "      <td>1.457365</td>\n",
       "      <td>0.455057</td>\n",
       "      <td>-0.088699</td>\n",
       "      <td>0.463627</td>\n",
       "      <td>0.473579</td>\n",
       "      <td>-0.092552</td>\n",
       "      <td>0.482544</td>\n",
       "    </tr>\n",
       "    <tr>\n",
       "      <th>2</th>\n",
       "      <td>2020-07-13 09:32:47</td>\n",
       "      <td>344.0</td>\n",
       "      <td>356.0</td>\n",
       "      <td>54.0</td>\n",
       "      <td>1</td>\n",
       "      <td>000adf04-7a12-4af4-9c4d-7117495e9000</td>\n",
       "      <td>444</td>\n",
       "      <td>-0.756697</td>\n",
       "      <td>1.444081</td>\n",
       "      <td>1.006110</td>\n",
       "      <td>1</td>\n",
       "      <td>1</td>\n",
       "      <td>1</td>\n",
       "      <td>male</td>\n",
       "      <td>32.0</td>\n",
       "      <td>20</td>\n",
       "      <td>2</td>\n",
       "      <td>0.074132</td>\n",
       "      <td>0.090651</td>\n",
       "      <td>1.0</td>\n",
       "      <td>0.074132</td>\n",
       "      <td>0.090651</td>\n",
       "      <td>0.117103</td>\n",
       "      <td>1.630325</td>\n",
       "      <td>0.274619</td>\n",
       "      <td>-0.003744</td>\n",
       "      <td>0.299484</td>\n",
       "      <td>0.313004</td>\n",
       "      <td>-0.018906</td>\n",
       "      <td>0.335639</td>\n",
       "    </tr>\n",
       "    <tr>\n",
       "      <th>3</th>\n",
       "      <td>2020-07-13 09:32:48</td>\n",
       "      <td>344.0</td>\n",
       "      <td>356.0</td>\n",
       "      <td>54.0</td>\n",
       "      <td>1</td>\n",
       "      <td>000adf04-7a12-4af4-9c4d-7117495e9000</td>\n",
       "      <td>444</td>\n",
       "      <td>-0.830829</td>\n",
       "      <td>1.353430</td>\n",
       "      <td>0.976361</td>\n",
       "      <td>1</td>\n",
       "      <td>1</td>\n",
       "      <td>1</td>\n",
       "      <td>male</td>\n",
       "      <td>32.0</td>\n",
       "      <td>20</td>\n",
       "      <td>3</td>\n",
       "      <td>0.182801</td>\n",
       "      <td>-0.304498</td>\n",
       "      <td>1.0</td>\n",
       "      <td>0.182801</td>\n",
       "      <td>-0.304498</td>\n",
       "      <td>0.355155</td>\n",
       "      <td>1.588096</td>\n",
       "      <td>0.236479</td>\n",
       "      <td>-0.128672</td>\n",
       "      <td>0.322609</td>\n",
       "      <td>0.270108</td>\n",
       "      <td>-0.112996</td>\n",
       "      <td>0.342069</td>\n",
       "    </tr>\n",
       "    <tr>\n",
       "      <th>4</th>\n",
       "      <td>2020-07-13 09:32:49</td>\n",
       "      <td>344.0</td>\n",
       "      <td>356.0</td>\n",
       "      <td>54.0</td>\n",
       "      <td>1</td>\n",
       "      <td>000adf04-7a12-4af4-9c4d-7117495e9000</td>\n",
       "      <td>444</td>\n",
       "      <td>-1.013630</td>\n",
       "      <td>1.657928</td>\n",
       "      <td>0.961924</td>\n",
       "      <td>1</td>\n",
       "      <td>1</td>\n",
       "      <td>1</td>\n",
       "      <td>male</td>\n",
       "      <td>32.0</td>\n",
       "      <td>20</td>\n",
       "      <td>4</td>\n",
       "      <td>0.279102</td>\n",
       "      <td>-0.393887</td>\n",
       "      <td>1.0</td>\n",
       "      <td>0.279102</td>\n",
       "      <td>-0.393887</td>\n",
       "      <td>0.482747</td>\n",
       "      <td>1.943237</td>\n",
       "      <td>0.252841</td>\n",
       "      <td>-0.230485</td>\n",
       "      <td>0.384084</td>\n",
       "      <td>0.272690</td>\n",
       "      <td>-0.193632</td>\n",
       "      <td>0.382454</td>\n",
       "    </tr>\n",
       "  </tbody>\n",
       "</table>\n",
       "</div>"
      ],
      "text/plain": [
       "       local_timestamp  headpose_pitch  ...  ema_10_y  ema_10_velocity\n",
       "0  2020-07-13 09:32:45           344.0  ... -0.134942         0.690630\n",
       "1  2020-07-13 09:32:46           344.0  ... -0.092552         0.482544\n",
       "2  2020-07-13 09:32:47           344.0  ... -0.018906         0.335639\n",
       "3  2020-07-13 09:32:48           344.0  ... -0.112996         0.342069\n",
       "4  2020-07-13 09:32:49           344.0  ... -0.193632         0.382454\n",
       "\n",
       "[5 rows x 30 columns]"
      ]
     },
     "execution_count": 6,
     "metadata": {
      "tags": []
     },
     "output_type": "execute_result"
    }
   ],
   "source": [
    "dataset = pd.read_csv(\"project_df_final.csv\")\n",
    "\n",
    "dataset.head()"
   ]
  },
  {
   "cell_type": "code",
   "execution_count": 7,
   "metadata": {
    "colab": {},
    "colab_type": "code",
    "executionInfo": {
     "elapsed": 11376,
     "status": "ok",
     "timestamp": 1595938271071,
     "user": {
      "displayName": "Matthieu Bornet",
      "photoUrl": "https://lh3.googleusercontent.com/a-/AOh14Ggh7IAyuSpnvsDQwEYSDrFovYknZbS8ntOSRhFPvg=s64",
      "userId": "01878102350121562100"
     },
     "user_tz": -120
    },
    "id": "lEq42pLifcdx"
   },
   "outputs": [],
   "source": [
    "#dataset.info()"
   ]
  },
  {
   "cell_type": "markdown",
   "metadata": {
    "colab_type": "text",
    "id": "SJxZxDetj60v"
   },
   "source": [
    "Add labels to dataframe"
   ]
  },
  {
   "cell_type": "code",
   "execution_count": 8,
   "metadata": {
    "colab": {},
    "colab_type": "code",
    "executionInfo": {
     "elapsed": 11370,
     "status": "ok",
     "timestamp": 1595938271071,
     "user": {
      "displayName": "Matthieu Bornet",
      "photoUrl": "https://lh3.googleusercontent.com/a-/AOh14Ggh7IAyuSpnvsDQwEYSDrFovYknZbS8ntOSRhFPvg=s64",
      "userId": "01878102350121562100"
     },
     "user_tz": -120
    },
    "id": "HKcyYzo4iEBI"
   },
   "outputs": [],
   "source": [
    "def add_labels_in_n(d, n):\n",
    "    x_col = \"x_in_\" + str(n)\n",
    "    y_col = \"y_in_\" + str(n)\n",
    "    person_col = \"person_in_\" + str(n)\n",
    "\n",
    "    d[x_col] = d[\"x_world\"].shift(-n)\n",
    "    d[y_col] = d[\"y_world\"].shift(-n)\n",
    "    d[person_col] = d[\"person_id\"].shift(-n)\n",
    "\n",
    "    return d[d[\"person_id\"] == d[person_col]]"
   ]
  },
  {
   "cell_type": "markdown",
   "metadata": {
    "colab_type": "text",
    "id": "-CrMKPRIJnqv"
   },
   "source": [
    "Create 3 sub dataframes for each prediction time window (1,2,5 seconds)"
   ]
  },
  {
   "cell_type": "code",
   "execution_count": 9,
   "metadata": {
    "colab": {},
    "colab_type": "code",
    "executionInfo": {
     "elapsed": 13659,
     "status": "ok",
     "timestamp": 1595938273365,
     "user": {
      "displayName": "Matthieu Bornet",
      "photoUrl": "https://lh3.googleusercontent.com/a-/AOh14Ggh7IAyuSpnvsDQwEYSDrFovYknZbS8ntOSRhFPvg=s64",
      "userId": "01878102350121562100"
     },
     "user_tz": -120
    },
    "id": "qT91-UrXkAnz"
   },
   "outputs": [],
   "source": [
    "df_model_5 = add_labels_in_n(dataset, 5)\n",
    "df_model_2 = add_labels_in_n(dataset, 2)\n",
    "df_model_1 = add_labels_in_n(dataset, 1)"
   ]
  },
  {
   "cell_type": "markdown",
   "metadata": {
    "colab_type": "text",
    "id": "gdb0rR7yJvEk"
   },
   "source": [
    "Define preprocessing pipeline"
   ]
  },
  {
   "cell_type": "code",
   "execution_count": 10,
   "metadata": {
    "colab": {},
    "colab_type": "code",
    "executionInfo": {
     "elapsed": 13656,
     "status": "ok",
     "timestamp": 1595938273366,
     "user": {
      "displayName": "Matthieu Bornet",
      "photoUrl": "https://lh3.googleusercontent.com/a-/AOh14Ggh7IAyuSpnvsDQwEYSDrFovYknZbS8ntOSRhFPvg=s64",
      "userId": "01878102350121562100"
     },
     "user_tz": -120
    },
    "id": "g8zkUWrsrPpB"
   },
   "outputs": [],
   "source": [
    "# Data Preprocessing\n",
    "\n",
    "# Define numerical features\n",
    "numerical_features = [\n",
    "    \"x_world\",\n",
    "    \"y_world\",\n",
    "    \"age\",\n",
    "    \"ema_5_x\",\n",
    "    \"ema_5_y\",\n",
    "    \"ema_5_velocity\",\n",
    "    \"cumulative_time\",\n",
    "    \"dx_world\",\n",
    "    \"dy_world\",\n",
    "    \"d_time\",\n",
    "    \"x_velocity\",\n",
    "    \"y_velocity\",\n",
    "    \"velocity\",\n",
    "    \"distance_to_camera\",\n",
    "    \"ema_10_x\",\n",
    "    \"ema_10_y\",\n",
    "    \"ema_10_velocity\",\n",
    "]\n",
    "\n",
    "# Define categorical features\n",
    "categorical_features = [\"gender\", \"looking_at_screen\"]\n",
    "\n",
    "# Define transformers\n",
    "numerical_transformer = Pipeline(\n",
    "    steps=[(\"scaler\", StandardScaler()),]\n",
    ")\n",
    "\n",
    "categorical_transformer = Pipeline(\n",
    "    steps=[(\"onehot\", OneHotEncoder(handle_unknown=\"ignore\"))]\n",
    ")\n",
    "\n",
    "# Combine feature transformers\n",
    "data_transformer = ColumnTransformer(\n",
    "    transformers=[\n",
    "        (\"numerical\", numerical_transformer, numerical_features),\n",
    "        (\"categorical\", categorical_transformer, categorical_features),\n",
    "    ],\n",
    "    remainder=\"passthrough\",\n",
    ")  # features not listed in categorical/numerical lists will be ignored (\"passthrough\")\n",
    "\n",
    "# Define preprocessing pipeline (data transformation & dimension reduction, not included for now)\n",
    "preprocessor = Pipeline(steps=[(\"data_transformer\", data_transformer),])"
   ]
  },
  {
   "cell_type": "markdown",
   "metadata": {
    "colab_type": "text",
    "id": "AzD8i87UKENa"
   },
   "source": [
    "Define functions to split sub dataframes (1,2,5 seconds) by POI"
   ]
  },
  {
   "cell_type": "code",
   "execution_count": 11,
   "metadata": {
    "colab": {},
    "colab_type": "code",
    "executionInfo": {
     "elapsed": 13652,
     "status": "ok",
     "timestamp": 1595938273367,
     "user": {
      "displayName": "Matthieu Bornet",
      "photoUrl": "https://lh3.googleusercontent.com/a-/AOh14Ggh7IAyuSpnvsDQwEYSDrFovYknZbS8ntOSRhFPvg=s64",
      "userId": "01878102350121562100"
     },
     "user_tz": -120
    },
    "id": "Ao9qrH2-kNT0"
   },
   "outputs": [],
   "source": [
    "def define_target_and_df_per_window_5(\n",
    "    sec=5, df=df_model_5, columns=[],\n",
    "):\n",
    "    if columns == []:\n",
    "        columns = [\n",
    "            \"poi_id\",\n",
    "            \"person_id\",\n",
    "            \"x_world\",\n",
    "            \"y_world\",\n",
    "            \"age\",\n",
    "            \"gender\",\n",
    "            \"looking_at_screen\",\n",
    "            \"ema_5_x\",\n",
    "            \"ema_5_y\",\n",
    "            \"ema_5_velocity\",\n",
    "            \"cumulative_time\",\n",
    "            \"dx_world\",\n",
    "            \"dy_world\",\n",
    "            \"d_time\",\n",
    "            \"x_velocity\",\n",
    "            \"y_velocity\",\n",
    "            \"velocity\",\n",
    "            \"distance_to_camera\",\n",
    "            \"ema_10_x\",\n",
    "            \"ema_10_y\",\n",
    "            \"ema_10_velocity\",\n",
    "            \"x_in_5\",\n",
    "            \"y_in_5\",\n",
    "        ]\n",
    "\n",
    "    df_model = df[columns]\n",
    "    print(\"The model target window is \" + str(sec) + \" seconds. \\n\")\n",
    "    print(df_model.info())\n",
    "\n",
    "    df_inst_1 = df_model.loc[df[\"poi_id\"] == 444]\n",
    "    df_inst_450 = df_model.loc[df[\"poi_id\"] == 450]\n",
    "    df_inst_453 = df_model.loc[df[\"poi_id\"] == 453]\n",
    "    df_inst_456 = df_model.loc[df[\"poi_id\"] == 456]\n",
    "    df_inst_457 = df_model.loc[df[\"poi_id\"] == 457]\n",
    "    df_inst_466 = df_model.loc[df[\"poi_id\"] == 466]\n",
    "    df_inst_529 = df_model.loc[df[\"poi_id\"] == 529]\n",
    "\n",
    "    return (\n",
    "        df_inst_1,\n",
    "        df_inst_450,\n",
    "        df_inst_453,\n",
    "        df_inst_456,\n",
    "        df_inst_457,\n",
    "        df_inst_466,\n",
    "        df_inst_529,\n",
    "    )"
   ]
  },
  {
   "cell_type": "code",
   "execution_count": 12,
   "metadata": {
    "colab": {},
    "colab_type": "code",
    "executionInfo": {
     "elapsed": 13649,
     "status": "ok",
     "timestamp": 1595938273368,
     "user": {
      "displayName": "Matthieu Bornet",
      "photoUrl": "https://lh3.googleusercontent.com/a-/AOh14Ggh7IAyuSpnvsDQwEYSDrFovYknZbS8ntOSRhFPvg=s64",
      "userId": "01878102350121562100"
     },
     "user_tz": -120
    },
    "id": "jJJBoC3vkjEw"
   },
   "outputs": [],
   "source": [
    "def define_target_and_df_per_window_2(\n",
    "    sec=2, df=df_model_2, columns=[],\n",
    "):\n",
    "    if columns == []:\n",
    "        columns = [\n",
    "            \"poi_id\",\n",
    "            \"person_id\",\n",
    "            \"x_world\",\n",
    "            \"y_world\",\n",
    "            \"age\",\n",
    "            \"gender\",\n",
    "            \"looking_at_screen\",\n",
    "            \"ema_5_x\",\n",
    "            \"ema_5_y\",\n",
    "            \"ema_5_velocity\",\n",
    "            \"cumulative_time\",\n",
    "            \"dx_world\",\n",
    "            \"dy_world\",\n",
    "            \"d_time\",\n",
    "            \"x_velocity\",\n",
    "            \"y_velocity\",\n",
    "            \"velocity\",\n",
    "            \"distance_to_camera\",\n",
    "            \"ema_10_x\",\n",
    "            \"ema_10_y\",\n",
    "            \"ema_10_velocity\",\n",
    "            \"x_in_2\",\n",
    "            \"y_in_2\",\n",
    "        ]\n",
    "\n",
    "    df_model = df[columns]\n",
    "    print(\"The model target window is \" + str(sec) + \" seconds. \\n\")\n",
    "    print(df_model.info())\n",
    "\n",
    "    df_inst_1 = df_model.loc[df[\"poi_id\"] == 444]\n",
    "    df_inst_450 = df_model.loc[df[\"poi_id\"] == 450]\n",
    "    df_inst_453 = df_model.loc[df[\"poi_id\"] == 453]\n",
    "    df_inst_456 = df_model.loc[df[\"poi_id\"] == 456]\n",
    "    df_inst_457 = df_model.loc[df[\"poi_id\"] == 457]\n",
    "    df_inst_466 = df_model.loc[df[\"poi_id\"] == 466]\n",
    "    df_inst_529 = df_model.loc[df[\"poi_id\"] == 529]\n",
    "\n",
    "    return (\n",
    "        df_inst_1,\n",
    "        df_inst_450,\n",
    "        df_inst_453,\n",
    "        df_inst_456,\n",
    "        df_inst_457,\n",
    "        df_inst_466,\n",
    "        df_inst_529,\n",
    "    )"
   ]
  },
  {
   "cell_type": "code",
   "execution_count": 13,
   "metadata": {
    "colab": {},
    "colab_type": "code",
    "executionInfo": {
     "elapsed": 13644,
     "status": "ok",
     "timestamp": 1595938273368,
     "user": {
      "displayName": "Matthieu Bornet",
      "photoUrl": "https://lh3.googleusercontent.com/a-/AOh14Ggh7IAyuSpnvsDQwEYSDrFovYknZbS8ntOSRhFPvg=s64",
      "userId": "01878102350121562100"
     },
     "user_tz": -120
    },
    "id": "uO8Y5sQ2klD1"
   },
   "outputs": [],
   "source": [
    "def define_target_and_df_per_window_1(\n",
    "    sec=1, df=df_model_1, columns=[],\n",
    "):\n",
    "    if columns == []:\n",
    "        columns = [\n",
    "            \"poi_id\",\n",
    "            \"person_id\",\n",
    "            \"x_world\",\n",
    "            \"y_world\",\n",
    "            \"age\",\n",
    "            \"gender\",\n",
    "            \"looking_at_screen\",\n",
    "            \"ema_5_x\",\n",
    "            \"ema_5_y\",\n",
    "            \"ema_5_velocity\",\n",
    "            \"cumulative_time\",\n",
    "            \"dx_world\",\n",
    "            \"dy_world\",\n",
    "            \"d_time\",\n",
    "            \"x_velocity\",\n",
    "            \"y_velocity\",\n",
    "            \"velocity\",\n",
    "            \"distance_to_camera\",\n",
    "            \"ema_10_x\",\n",
    "            \"ema_10_y\",\n",
    "            \"ema_10_velocity\",\n",
    "            \"x_in_1\",\n",
    "            \"y_in_1\",\n",
    "        ]\n",
    "\n",
    "    df_model = df[columns]\n",
    "    print(\"The model target window is \" + str(sec) + \" seconds. \\n\")\n",
    "    print(df_model.info())\n",
    "\n",
    "    df_inst_1 = df_model.loc[df[\"poi_id\"] == 444]\n",
    "    df_inst_450 = df_model.loc[df[\"poi_id\"] == 450]\n",
    "    df_inst_453 = df_model.loc[df[\"poi_id\"] == 453]\n",
    "    df_inst_456 = df_model.loc[df[\"poi_id\"] == 456]\n",
    "    df_inst_457 = df_model.loc[df[\"poi_id\"] == 457]\n",
    "    df_inst_466 = df_model.loc[df[\"poi_id\"] == 466]\n",
    "    df_inst_529 = df_model.loc[df[\"poi_id\"] == 529]\n",
    "\n",
    "    return (\n",
    "        df_inst_1,\n",
    "        df_inst_450,\n",
    "        df_inst_453,\n",
    "        df_inst_456,\n",
    "        df_inst_457,\n",
    "        df_inst_466,\n",
    "        df_inst_529,\n",
    "    )"
   ]
  },
  {
   "cell_type": "markdown",
   "metadata": {
    "colab_type": "text",
    "id": "A-9t-lFVKnQl"
   },
   "source": [
    "Define function to train-test split per POI and per prediction window (resulting in 7 x 3 dataframes, and 21 x_test, x_train, y_test, y_train)"
   ]
  },
  {
   "cell_type": "code",
   "execution_count": 14,
   "metadata": {
    "colab": {
     "base_uri": "https://localhost:8080/",
     "height": 1000
    },
    "colab_type": "code",
    "executionInfo": {
     "elapsed": 18459,
     "status": "ok",
     "timestamp": 1595938278188,
     "user": {
      "displayName": "Matthieu Bornet",
      "photoUrl": "https://lh3.googleusercontent.com/a-/AOh14Ggh7IAyuSpnvsDQwEYSDrFovYknZbS8ntOSRhFPvg=s64",
      "userId": "01878102350121562100"
     },
     "user_tz": -120
    },
    "id": "mLl9Qk-hkmjQ",
    "outputId": "90909d84-c8da-412b-f5fa-25cfa25fb388"
   },
   "outputs": [
    {
     "name": "stdout",
     "output_type": "stream",
     "text": [
      "The model target window is 1 seconds. \n",
      "\n",
      "<class 'pandas.core.frame.DataFrame'>\n",
      "Int64Index: 1986463 entries, 0 to 2078711\n",
      "Data columns (total 23 columns):\n",
      " #   Column              Dtype  \n",
      "---  ------              -----  \n",
      " 0   poi_id              int64  \n",
      " 1   person_id           object \n",
      " 2   x_world             float64\n",
      " 3   y_world             float64\n",
      " 4   age                 float64\n",
      " 5   gender              object \n",
      " 6   looking_at_screen   int64  \n",
      " 7   ema_5_x             float64\n",
      " 8   ema_5_y             float64\n",
      " 9   ema_5_velocity      float64\n",
      " 10  cumulative_time     int64  \n",
      " 11  dx_world            float64\n",
      " 12  dy_world            float64\n",
      " 13  d_time              float64\n",
      " 14  x_velocity          float64\n",
      " 15  y_velocity          float64\n",
      " 16  velocity            float64\n",
      " 17  distance_to_camera  float64\n",
      " 18  ema_10_x            float64\n",
      " 19  ema_10_y            float64\n",
      " 20  ema_10_velocity     float64\n",
      " 21  x_in_1              float64\n",
      " 22  y_in_1              float64\n",
      "dtypes: float64(18), int64(3), object(2)\n",
      "memory usage: 363.7+ MB\n",
      "None\n",
      "The model target window is 2 seconds. \n",
      "\n",
      "<class 'pandas.core.frame.DataFrame'>\n",
      "Int64Index: 1894213 entries, 0 to 2078710\n",
      "Data columns (total 23 columns):\n",
      " #   Column              Dtype  \n",
      "---  ------              -----  \n",
      " 0   poi_id              int64  \n",
      " 1   person_id           object \n",
      " 2   x_world             float64\n",
      " 3   y_world             float64\n",
      " 4   age                 float64\n",
      " 5   gender              object \n",
      " 6   looking_at_screen   int64  \n",
      " 7   ema_5_x             float64\n",
      " 8   ema_5_y             float64\n",
      " 9   ema_5_velocity      float64\n",
      " 10  cumulative_time     int64  \n",
      " 11  dx_world            float64\n",
      " 12  dy_world            float64\n",
      " 13  d_time              float64\n",
      " 14  x_velocity          float64\n",
      " 15  y_velocity          float64\n",
      " 16  velocity            float64\n",
      " 17  distance_to_camera  float64\n",
      " 18  ema_10_x            float64\n",
      " 19  ema_10_y            float64\n",
      " 20  ema_10_velocity     float64\n",
      " 21  x_in_2              float64\n",
      " 22  y_in_2              float64\n",
      "dtypes: float64(18), int64(3), object(2)\n",
      "memory usage: 346.8+ MB\n",
      "None\n",
      "The model target window is 5 seconds. \n",
      "\n",
      "<class 'pandas.core.frame.DataFrame'>\n",
      "Int64Index: 1621264 entries, 0 to 2078707\n",
      "Data columns (total 23 columns):\n",
      " #   Column              Non-Null Count    Dtype  \n",
      "---  ------              --------------    -----  \n",
      " 0   poi_id              1621264 non-null  int64  \n",
      " 1   person_id           1621264 non-null  object \n",
      " 2   x_world             1621264 non-null  float64\n",
      " 3   y_world             1621264 non-null  float64\n",
      " 4   age                 1621264 non-null  float64\n",
      " 5   gender              1621264 non-null  object \n",
      " 6   looking_at_screen   1621264 non-null  int64  \n",
      " 7   ema_5_x             1621264 non-null  float64\n",
      " 8   ema_5_y             1621264 non-null  float64\n",
      " 9   ema_5_velocity      1621264 non-null  float64\n",
      " 10  cumulative_time     1621264 non-null  int64  \n",
      " 11  dx_world            1621264 non-null  float64\n",
      " 12  dy_world            1621264 non-null  float64\n",
      " 13  d_time              1621264 non-null  float64\n",
      " 14  x_velocity          1621264 non-null  float64\n",
      " 15  y_velocity          1621264 non-null  float64\n",
      " 16  velocity            1621264 non-null  float64\n",
      " 17  distance_to_camera  1621264 non-null  float64\n",
      " 18  ema_10_x            1621264 non-null  float64\n",
      " 19  ema_10_y            1621264 non-null  float64\n",
      " 20  ema_10_velocity     1621264 non-null  float64\n",
      " 21  x_in_5              1621264 non-null  float64\n",
      " 22  y_in_5              1621264 non-null  float64\n",
      "dtypes: float64(18), int64(3), object(2)\n",
      "memory usage: 296.9+ MB\n",
      "None\n"
     ]
    }
   ],
   "source": [
    "def split_per_group(d):\n",
    "\n",
    "    train_inds, test_inds = next(\n",
    "        GroupShuffleSplit(test_size=0.2, n_splits=2, random_state=42).split(\n",
    "            d, groups=d[\"person_id\"]\n",
    "        )\n",
    "    )\n",
    "\n",
    "    train = d.iloc[train_inds]\n",
    "    test = d.iloc[test_inds]\n",
    "\n",
    "    y_train = train.iloc[:, -2:]\n",
    "    y_test = test.iloc[:, -2:]\n",
    "\n",
    "    # Drop present_in_sec, person_id and POI_id from our POI dataframes (not needed and leading to errors)\n",
    "    X_train = train[train.columns[2:-2]]\n",
    "    X_test = test[test.columns[2:-2]]\n",
    "\n",
    "    return X_train, y_train, X_test, y_test\n",
    "\n",
    "\n",
    "(\n",
    "    df_inst_444_1,\n",
    "    df_inst_450_1,\n",
    "    df_inst_453_1,\n",
    "    df_inst_456_1,\n",
    "    df_inst_457_1,\n",
    "    df_inst_466_1,\n",
    "    df_inst_529_1,\n",
    ") = define_target_and_df_per_window_1(1,)\n",
    "\n",
    "X_train_444_1, y_train_444_1, X_test_444_1, y_test_444_1 = split_per_group(\n",
    "    df_inst_444_1\n",
    ")\n",
    "X_train_450_1, y_train_450_1, X_test_450_1, y_test_450_1 = split_per_group(\n",
    "    df_inst_450_1\n",
    ")\n",
    "X_train_453_1, y_train_453_1, X_test_453_1, y_test_453_1 = split_per_group(\n",
    "    df_inst_453_1\n",
    ")\n",
    "X_train_456_1, y_train_456_1, X_test_456_1, y_test_456_1 = split_per_group(\n",
    "    df_inst_456_1\n",
    ")\n",
    "X_train_457_1, y_train_457_1, X_test_457_1, y_test_457_1 = split_per_group(\n",
    "    df_inst_457_1\n",
    ")\n",
    "X_train_466_1, y_train_466_1, X_test_466_1, y_test_466_1 = split_per_group(\n",
    "    df_inst_466_1\n",
    ")\n",
    "X_train_529_1, y_train_529_1, X_test_529_1, y_test_529_1 = split_per_group(\n",
    "    df_inst_529_1\n",
    ")\n",
    "\n",
    "(\n",
    "    df_inst_444_2,\n",
    "    df_inst_450_2,\n",
    "    df_inst_453_2,\n",
    "    df_inst_456_2,\n",
    "    df_inst_457_2,\n",
    "    df_inst_466_2,\n",
    "    df_inst_529_2,\n",
    ") = define_target_and_df_per_window_2(2,)\n",
    "\n",
    "X_train_444_2, y_train_444_2, X_test_444_2, y_test_444_2 = split_per_group(\n",
    "    df_inst_444_2\n",
    ")\n",
    "X_train_450_2, y_train_450_2, X_test_450_2, y_test_450_2 = split_per_group(\n",
    "    df_inst_450_2\n",
    ")\n",
    "X_train_453_2, y_train_453_2, X_test_453_2, y_test_453_2 = split_per_group(\n",
    "    df_inst_453_2\n",
    ")\n",
    "X_train_456_2, y_train_456_2, X_test_456_2, y_test_456_2 = split_per_group(\n",
    "    df_inst_456_2\n",
    ")\n",
    "X_train_457_2, y_train_457_2, X_test_457_2, y_test_457_2 = split_per_group(\n",
    "    df_inst_457_2\n",
    ")\n",
    "X_train_466_2, y_train_466_2, X_test_466_2, y_test_466_2 = split_per_group(\n",
    "    df_inst_466_2\n",
    ")\n",
    "X_train_529_2, y_train_529_2, X_test_529_2, y_test_529_2 = split_per_group(\n",
    "    df_inst_529_2\n",
    ")\n",
    "\n",
    "\n",
    "(\n",
    "    df_inst_444_5,\n",
    "    df_inst_450_5,\n",
    "    df_inst_453_5,\n",
    "    df_inst_456_5,\n",
    "    df_inst_457_5,\n",
    "    df_inst_466_5,\n",
    "    df_inst_529_5,\n",
    ") = define_target_and_df_per_window_5(5,)\n",
    "\n",
    "X_train_444_5, y_train_444_5, X_test_444_5, y_test_444_5 = split_per_group(\n",
    "    df_inst_444_5\n",
    ")\n",
    "X_train_450_5, y_train_450_5, X_test_450_5, y_test_450_5 = split_per_group(\n",
    "    df_inst_450_5\n",
    ")\n",
    "X_train_453_5, y_train_453_5, X_test_453_5, y_test_453_5 = split_per_group(\n",
    "    df_inst_453_5\n",
    ")\n",
    "X_train_456_5, y_train_456_5, X_test_456_5, y_test_456_5 = split_per_group(\n",
    "    df_inst_456_5\n",
    ")\n",
    "X_train_457_5, y_train_457_5, X_test_457_5, y_test_457_5 = split_per_group(\n",
    "    df_inst_457_5\n",
    ")\n",
    "X_train_466_5, y_train_466_5, X_test_466_5, y_test_466_5 = split_per_group(\n",
    "    df_inst_466_5\n",
    ")\n",
    "X_train_529_5, y_train_529_5, X_test_529_5, y_test_529_5 = split_per_group(\n",
    "    df_inst_529_5\n",
    ")\n",
    "\n",
    "train_test_per_camera_dict = {\n",
    "    \"cam444_1\": [X_train_444_1, y_train_444_1, X_test_444_1, y_test_444_1],\n",
    "    \"cam450_1\": [X_train_450_1, y_train_450_1, X_test_450_1, y_test_450_1],\n",
    "    \"cam453_1\": [X_train_453_1, y_train_453_1, X_test_453_1, y_test_453_1],\n",
    "    \"cam456_1\": [X_train_456_1, y_train_456_1, X_test_456_1, y_test_456_1],\n",
    "    \"cam457_1\": [X_train_457_1, y_train_457_1, X_test_457_1, y_test_457_1],\n",
    "    \"cam466_1\": [X_train_466_1, y_train_466_1, X_test_466_1, y_test_466_1],\n",
    "    \"cam529_1\": [X_train_529_1, y_train_529_1, X_test_529_1, y_test_529_1],\n",
    "    \"cam444_2\": [X_train_444_2, y_train_444_2, X_test_444_2, y_test_444_2],\n",
    "    \"cam450_2\": [X_train_450_2, y_train_450_2, X_test_450_2, y_test_450_2],\n",
    "    \"cam453_2\": [X_train_453_2, y_train_453_2, X_test_453_2, y_test_453_2],\n",
    "    \"cam456_2\": [X_train_456_2, y_train_456_2, X_test_456_2, y_test_456_2],\n",
    "    \"cam457_2\": [X_train_457_2, y_train_457_2, X_test_457_2, y_test_457_2],\n",
    "    \"cam466_2\": [X_train_466_2, y_train_466_2, X_test_466_2, y_test_466_2],\n",
    "    \"cam529_2\": [X_train_529_2, y_train_529_2, X_test_529_2, y_test_529_2],\n",
    "    \"cam444_5\": [X_train_444_5, y_train_444_5, X_test_444_5, y_test_444_5],\n",
    "    \"cam450_5\": [X_train_450_5, y_train_450_5, X_test_450_5, y_test_450_5],\n",
    "    \"cam453_5\": [X_train_453_5, y_train_453_5, X_test_453_5, y_test_453_5],\n",
    "    \"cam456_5\": [X_train_456_5, y_train_456_5, X_test_456_5, y_test_456_5],\n",
    "    \"cam457_5\": [X_train_457_5, y_train_457_5, X_test_457_5, y_test_457_5],\n",
    "    \"cam466_5\": [X_train_466_5, y_train_466_5, X_test_466_5, y_test_466_5],\n",
    "    \"cam529_5\": [X_train_529_5, y_train_529_5, X_test_529_5, y_test_529_5],\n",
    "}"
   ]
  },
  {
   "cell_type": "markdown",
   "metadata": {
    "colab_type": "text",
    "id": "bNbmI7ScLDCg"
   },
   "source": [
    "Define a function to build a Neural Net model"
   ]
  },
  {
   "cell_type": "code",
   "execution_count": 15,
   "metadata": {
    "colab": {},
    "colab_type": "code",
    "executionInfo": {
     "elapsed": 18456,
     "status": "ok",
     "timestamp": 1595938278190,
     "user": {
      "displayName": "Matthieu Bornet",
      "photoUrl": "https://lh3.googleusercontent.com/a-/AOh14Ggh7IAyuSpnvsDQwEYSDrFovYknZbS8ntOSRhFPvg=s64",
      "userId": "01878102350121562100"
     },
     "user_tz": -120
    },
    "id": "kOhSxz-Cl2ni"
   },
   "outputs": [],
   "source": [
    "def build_model(X_train, y_test):\n",
    "  model = keras.Sequential([\n",
    "    layers.Dense(64, activation='relu', input_shape=[len(X_train[0])]),\n",
    "    layers.Dense(64, activation='relu'),\n",
    "    layers.Dense(y_test.shape[1],) #activation='softmax')\n",
    "  ])\n",
    "\n",
    "  optimizer = tf.keras.optimizers.RMSprop(0.001)\n",
    "\n",
    "  model.compile(loss='mse',\n",
    "                optimizer=optimizer,\n",
    "               metrics=['mae', 'mse', tf.metrics.RootMeanSquaredError()])\n",
    "  return model"
   ]
  },
  {
   "cell_type": "markdown",
   "metadata": {
    "colab_type": "text",
    "id": "xt4CfkkpLNvI"
   },
   "source": [
    "Define function to run the model"
   ]
  },
  {
   "cell_type": "code",
   "execution_count": 16,
   "metadata": {
    "colab": {},
    "colab_type": "code",
    "executionInfo": {
     "elapsed": 18451,
     "status": "ok",
     "timestamp": 1595938278190,
     "user": {
      "displayName": "Matthieu Bornet",
      "photoUrl": "https://lh3.googleusercontent.com/a-/AOh14Ggh7IAyuSpnvsDQwEYSDrFovYknZbS8ntOSRhFPvg=s64",
      "userId": "01878102350121562100"
     },
     "user_tz": -120
    },
    "id": "Gv7gJx5OStCB"
   },
   "outputs": [],
   "source": [
    "def run_models(X_train, y_train, X_test, y_test):\n",
    "\n",
    "    X_train = preprocessor.fit_transform(X_train)\n",
    "    X_test = preprocessor.transform(X_test)\n",
    "\n",
    "    model = build_model(X_train, y_test)\n",
    "\n",
    "    X_train_tensor = tf.constant(X_train, dtype = tf.float32, shape=X_train.shape)\n",
    "    X_test_tensor = tf.constant(X_test, dtype = tf.float32, shape=X_test.shape)\n",
    "\n",
    "#    model = build_model(X_train_tensor, y_test)   \n",
    "\n",
    "    fit = model.fit(X_train_tensor, y_train)\n",
    "    predictions = model.predict(X_test_tensor)\n",
    "    #score = model.score(X_test_tensor, y_test)\n",
    "\n",
    "    print(y_test)\n",
    "    print(predictions)\n",
    "\n",
    "    print(\"Mean Absolute Error:\", metrics.mean_absolute_error(y_test, predictions))\n",
    "    print(\"Mean Squared Error:\", metrics.mean_squared_error(y_test, predictions))\n",
    "    print(\n",
    "        \"Root Mean Squared Error:\",\n",
    "        np.sqrt(metrics.mean_squared_error(y_test, predictions)),\n",
    "    )\n",
    "\n",
    "    r2 = metrics.r2_score(y_test, predictions, multioutput=\"variance_weighted\")\n",
    "    n, p = X_test.shape\n",
    "\n",
    "    print(\"R Square Score:\", r2)\n",
    "\n",
    "    ad_r_square = 1 - (1 - r2) * ((n - 1) / (n - p - 1))\n",
    "\n",
    "    print(\"Adjusted R Square Score:\", ad_r_square)\n",
    "\n",
    "    # calculate euclidian distance between predicted and actual (x,y) points: \n",
    "    val = []\n",
    "    for i in range(len(y_test)):\n",
    "        val.append(LA.norm(y_test.values[i] - predictions[i]))\n",
    "\n",
    "    print(\"euclidian distance between pred and actual: \" + str(np.mean(val)))\n",
    "\n",
    "    return y_test, predictions"
   ]
  },
  {
   "cell_type": "markdown",
   "metadata": {
    "colab_type": "text",
    "id": "0wwHKyrqLZwt"
   },
   "source": [
    "Run model"
   ]
  },
  {
   "cell_type": "code",
   "execution_count": 17,
   "metadata": {
    "colab": {
     "base_uri": "https://localhost:8080/",
     "height": 527
    },
    "colab_type": "code",
    "executionInfo": {
     "elapsed": 31764,
     "status": "ok",
     "timestamp": 1595938291508,
     "user": {
      "displayName": "Matthieu Bornet",
      "photoUrl": "https://lh3.googleusercontent.com/a-/AOh14Ggh7IAyuSpnvsDQwEYSDrFovYknZbS8ntOSRhFPvg=s64",
      "userId": "01878102350121562100"
     },
     "user_tz": -120
    },
    "id": "M33t7wiyTd7x",
    "outputId": "6563208f-fe05-4e5c-82b6-bf2b2b57fac5"
   },
   "outputs": [
    {
     "name": "stdout",
     "output_type": "stream",
     "text": [
      "\n",
      "----- cam444_1\n",
      "3722/3722 [==============================] - 11s 3ms/step - loss: 0.1169 - mae: 0.1199 - mse: 0.1169 - root_mean_squared_error: 0.3419\n",
      "          x_in_1     y_in_1\n",
      "185    -1.332999  10.809081\n",
      "186    -1.063615  10.019430\n",
      "187    -1.029271   9.627491\n",
      "188    -1.140910   9.322717\n",
      "189    -0.966482   9.534516\n",
      "...          ...        ...\n",
      "155070  1.692269   3.544731\n",
      "155071  1.608889   3.226548\n",
      "155072  1.559912   2.063911\n",
      "155073  1.687831   1.054498\n",
      "155074  1.800506   1.054498\n",
      "\n",
      "[29763 rows x 2 columns]\n",
      "[[-1.3361579 10.759259 ]\n",
      " [-1.1135302  9.999301 ]\n",
      " [-1.0620084  9.585326 ]\n",
      " ...\n",
      " [ 1.538938   2.1505606]\n",
      " [ 1.6886127  0.9769608]\n",
      " [ 1.832799   0.9454748]]\n",
      "Mean Absolute Error: 0.06226000635707583\n",
      "Mean Squared Error: 0.008394687021472563\n",
      "Root Mean Squared Error: 0.09162252464035557\n",
      "R Square Score: 0.9986297731510514\n",
      "Adjusted R Square Score: 0.9986288056394066\n",
      "euclidian distance between pred and actual: 0.09962334471627458\n"
     ]
    }
   ],
   "source": [
    "dict1 = {\n",
    "    \"cam444_1\": [X_train_444_1, y_train_444_1, X_test_444_1, y_test_444_1],\n",
    "}\n",
    "\n",
    "for key, value in train_test_per_camera_dict.items():\n",
    "#for key, value in dict1.items():\n",
    "    print(\"\\n-----\", key)\n",
    "    test, preds = run_models(*value)"
   ]
  }
 ],
 "metadata": {
  "accelerator": "GPU",
  "colab": {
   "authorship_tag": "ABX9TyOVCL/2D1geczUO6SVPWtGY",
   "name": "Sequential Model (goal2).ipynb",
   "provenance": []
  },
  "kernelspec": {
   "display_name": "Python 3",
   "language": "python",
   "name": "python3"
  },
  "language_info": {
   "codemirror_mode": {
    "name": "ipython",
    "version": 3
   },
   "file_extension": ".py",
   "mimetype": "text/x-python",
   "name": "python",
   "nbconvert_exporter": "python",
   "pygments_lexer": "ipython3",
   "version": "3.7.6"
  }
 },
 "nbformat": 4,
 "nbformat_minor": 4
}
